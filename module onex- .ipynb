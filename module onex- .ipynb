{
 "cells": [
  {
   "cell_type": "markdown",
   "metadata": {},
   "source": [
    "ducks are my friends, september 9th, yvette james"
   ]
  },
  {
   "cell_type": "markdown",
   "metadata": {},
   "source": [
    "**winter is well on it's way here**\n"
   ]
  },
  {
   "cell_type": "markdown",
   "metadata": {},
   "source": [
    "_\"He shouted, I don't want any more hot dogs\"!_"
   ]
  },
  {
   "cell_type": "markdown",
   "metadata": {},
   "source": [
    "**_The lady is the castle only comes out at night\"_**"
   ]
  },
  {
   "cell_type": "markdown",
   "metadata": {},
   "source": [
    "my imaginary grocery list\n",
    "1. fifteen lobsters\n",
    "2. 5 pounds of short ribs \n",
    "3. Pre-made salads that last in the refrigerator for 10 days \n",
    "4. home made pasta\n",
    "5. home made pesto\n",
    "6. a chef to cook for free\n",
    "\n"
   ]
  },
  {
   "cell_type": "markdown",
   "metadata": {},
   "source": [
    "My_life_goals = {}\n",
    "my_life_goals[\"people\"] = give grace\n",
    "my_life_goals[\"smile\"] = laugh alot\n",
    "my_life_goals[\"collect\"] = rubber ducks\n",
    "my_life_goals[\"never\"] = stop learning"
   ]
  },
  {
   "cell_type": "markdown",
   "metadata": {},
   "source": [
    "My_life_goals"
   ]
  },
  {
   "cell_type": "markdown",
   "metadata": {},
   "source": [
    "my_num = 3\n",
    "*3 my_num"
   ]
  },
  {
   "cell_type": "markdown",
   "metadata": {},
   "source": [
    "my_num = 3\n",
    "3 * my_num"
   ]
  },
  {
   "cell_type": "markdown",
   "metadata": {},
   "source": [
    "my_num1 = 2\n",
    "\n",
    "my_num2 = 2\n",
    "\n",
    "num1 * num 2 = "
   ]
  },
  {
   "cell_type": "markdown",
   "metadata": {},
   "source": [
    "In order to create a dictionary in markdown the following steps are required:\n",
    "\n",
    "- compile a list of items you want in your dictionary - ducks are us\n",
    "- first line of of cells - provide the name of your dictionary and put in the equal sign followed by brackets {}.  If the name consist of two or more words put in a line underscore to separate the words.\n",
    "-for each item on your list, you first identify the list name (ducks are us) followed by an equal sign. this will be done for each item on the list.\n",
    "- the next set is to \"call\" the dictionary, therefore you will put in the next cell the name of the dictionary (ducks_are_us - do not forget the underscore)\n",
    "-hit the dropdown menu for markdown followed by pushing the run button\n",
    "the output will appear in the next cell.\n",
    "\n"
   ]
  }
 ],
 "metadata": {
  "kernelspec": {
   "display_name": "Python 3",
   "language": "python",
   "name": "python3"
  },
  "language_info": {
   "codemirror_mode": {
    "name": "ipython",
    "version": 3
   },
   "file_extension": ".py",
   "mimetype": "text/x-python",
   "name": "python",
   "nbconvert_exporter": "python",
   "pygments_lexer": "ipython3",
   "version": "3.7.3"
  }
 },
 "nbformat": 4,
 "nbformat_minor": 2
}
